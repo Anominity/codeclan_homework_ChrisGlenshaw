{
 "cells": [
  {
   "cell_type": "markdown",
   "id": "2ff51877",
   "metadata": {},
   "source": [
    "# Question 1\n",
    "\n",
    "#### Create a list with the following data, and assign it to a variable named shopping: 'spam' 'ham' 'eggs' 'ham'\n"
   ]
  },
  {
   "cell_type": "code",
   "execution_count": 2,
   "id": "4e03a9b3",
   "metadata": {},
   "outputs": [
    {
     "data": {
      "text/plain": [
       "['ham', 'eggs', 'ham']"
      ]
     },
     "execution_count": 2,
     "metadata": {},
     "output_type": "execute_result"
    }
   ],
   "source": [
    "spam = ['ham', 'eggs', 'ham']\n",
    "spam"
   ]
  },
  {
   "cell_type": "markdown",
   "id": "c0e2742f",
   "metadata": {},
   "source": [
    "#### Extract the second element of the list.\n"
   ]
  },
  {
   "cell_type": "code",
   "execution_count": 3,
   "id": "4ee03292",
   "metadata": {},
   "outputs": [
    {
     "data": {
      "text/plain": [
       "'eggs'"
      ]
     },
     "execution_count": 3,
     "metadata": {},
     "output_type": "execute_result"
    }
   ],
   "source": [
    "spam[1]"
   ]
  },
  {
   "cell_type": "markdown",
   "id": "b6947ff4",
   "metadata": {},
   "source": [
    "####    Extract the first to third (inclusive) element of the list."
   ]
  },
  {
   "cell_type": "code",
   "execution_count": 4,
   "id": "a1ffc501",
   "metadata": {},
   "outputs": [
    {
     "data": {
      "text/plain": [
       "['ham', 'eggs', 'ham']"
      ]
     },
     "execution_count": 4,
     "metadata": {},
     "output_type": "execute_result"
    }
   ],
   "source": [
    "spam[0:3]"
   ]
  },
  {
   "cell_type": "markdown",
   "id": "1d0ada54",
   "metadata": {},
   "source": [
    "####    Extract only the last element of the list."
   ]
  },
  {
   "cell_type": "code",
   "execution_count": 5,
   "id": "3717f828",
   "metadata": {},
   "outputs": [
    {
     "data": {
      "text/plain": [
       "'ham'"
      ]
     },
     "execution_count": 5,
     "metadata": {},
     "output_type": "execute_result"
    }
   ],
   "source": [
    "spam[-1]"
   ]
  },
  {
   "cell_type": "markdown",
   "id": "9b1bf4d8",
   "metadata": {},
   "source": [
    "# Question 2\n",
    "#### Set up a list with the following elements:\n",
    "\n",
    "Hint: Some of these methods will change the original object stops. If you make any unwanted changes and want to go back to the original object you can re-run the code chunks where we created the object stops and then appended \"Edinburgh Waverley\"."
   ]
  },
  {
   "cell_type": "code",
   "execution_count": 6,
   "id": "32f293d4",
   "metadata": {},
   "outputs": [],
   "source": [
    "stops = [\"Croy\", \"Cumbernauld\", \"Falkirk High\", \"Linlithgow\", \"Livingston\", \"Haymarket\"]"
   ]
  },
  {
   "cell_type": "markdown",
   "id": "46cf8a88",
   "metadata": {},
   "source": [
    "####  Append Edinburgh Waverley to the end of the list"
   ]
  },
  {
   "cell_type": "code",
   "execution_count": 7,
   "id": "bed3df5e",
   "metadata": {},
   "outputs": [
    {
     "data": {
      "text/plain": [
       "['Croy',\n",
       " 'Cumbernauld',\n",
       " 'Falkirk High',\n",
       " 'Linlithgow',\n",
       " 'Livingston',\n",
       " 'Haymarket',\n",
       " 'Edinburgh Waverley']"
      ]
     },
     "execution_count": 7,
     "metadata": {},
     "output_type": "execute_result"
    }
   ],
   "source": [
    "stops.append(\"Edinburgh Waverley\")\n",
    "stops"
   ]
  },
  {
   "cell_type": "markdown",
   "id": "fe18c11d",
   "metadata": {},
   "source": [
    "####  Add \"Queen Street\" to the start of the list"
   ]
  },
  {
   "cell_type": "code",
   "execution_count": 8,
   "id": "ab4eb754",
   "metadata": {},
   "outputs": [
    {
     "data": {
      "text/plain": [
       "['Queen Street',\n",
       " 'Croy',\n",
       " 'Cumbernauld',\n",
       " 'Falkirk High',\n",
       " 'Linlithgow',\n",
       " 'Livingston',\n",
       " 'Haymarket',\n",
       " 'Edinburgh Waverley']"
      ]
     },
     "execution_count": 8,
     "metadata": {},
     "output_type": "execute_result"
    }
   ],
   "source": [
    "stops.insert(0, \"Queen Street\")\n",
    "stops"
   ]
  },
  {
   "cell_type": "markdown",
   "id": "a72e6e92",
   "metadata": {},
   "source": [
    "#### Find out what index \"Croy\" is at in the list"
   ]
  },
  {
   "cell_type": "code",
   "execution_count": 9,
   "id": "ff3187f6",
   "metadata": {},
   "outputs": [
    {
     "data": {
      "text/plain": [
       "1"
      ]
     },
     "execution_count": 9,
     "metadata": {},
     "output_type": "execute_result"
    }
   ],
   "source": [
    "stops.index(\"Croy\")"
   ]
  },
  {
   "cell_type": "markdown",
   "id": "4e92c837",
   "metadata": {},
   "source": [
    "####  Add \"Polmont\" at the appropriate point (between \"Falkirk High\" and \"Linlithgow\")"
   ]
  },
  {
   "cell_type": "code",
   "execution_count": 10,
   "id": "4141b812",
   "metadata": {},
   "outputs": [
    {
     "data": {
      "text/plain": [
       "['Queen Street',\n",
       " 'Croy',\n",
       " 'Cumbernauld',\n",
       " 'Falkirk High',\n",
       " 'Polmont',\n",
       " 'Linlithgow',\n",
       " 'Livingston',\n",
       " 'Haymarket',\n",
       " 'Edinburgh Waverley']"
      ]
     },
     "execution_count": 10,
     "metadata": {},
     "output_type": "execute_result"
    }
   ],
   "source": [
    "stops.insert(4, \"Polmont\")\n",
    "stops"
   ]
  },
  {
   "cell_type": "markdown",
   "id": "48a61596",
   "metadata": {},
   "source": [
    "#### Remove \"Haymarket\" from the list of stops"
   ]
  },
  {
   "cell_type": "code",
   "execution_count": 11,
   "id": "3fb5e095",
   "metadata": {},
   "outputs": [
    {
     "data": {
      "text/plain": [
       "['Queen Street',\n",
       " 'Croy',\n",
       " 'Cumbernauld',\n",
       " 'Falkirk High',\n",
       " 'Polmont',\n",
       " 'Linlithgow',\n",
       " 'Livingston',\n",
       " 'Edinburgh Waverley']"
      ]
     },
     "execution_count": 11,
     "metadata": {},
     "output_type": "execute_result"
    }
   ],
   "source": [
    "stops.index(\"Haymarket\")\n",
    "stops.pop(7)\n",
    "stops"
   ]
  },
  {
   "cell_type": "markdown",
   "id": "d994e218",
   "metadata": {},
   "source": [
    "#### Remove all items from stops"
   ]
  },
  {
   "cell_type": "code",
   "execution_count": 12,
   "id": "13881965",
   "metadata": {},
   "outputs": [
    {
     "data": {
      "text/plain": [
       "[]"
      ]
     },
     "execution_count": 12,
     "metadata": {},
     "output_type": "execute_result"
    }
   ],
   "source": [
    "len(stops)\n",
    "del stops[0:8]\n",
    "stops"
   ]
  },
  {
   "cell_type": "markdown",
   "id": "2194e92a",
   "metadata": {},
   "source": [
    "# Question 3\n",
    "\n",
    "#### Set up the following dictionary:\n",
    "person = {\"name\": \"Steph\", \"age\": 31, \"Instructor\" : True}"
   ]
  },
  {
   "cell_type": "code",
   "execution_count": 13,
   "id": "0629d9a1",
   "metadata": {},
   "outputs": [],
   "source": [
    "person = {\"name\": \"Steph\", \"age\": 31, \"Instructor\" : True}"
   ]
  },
  {
   "cell_type": "markdown",
   "id": "c3b13f35",
   "metadata": {},
   "source": [
    "####     Return the keys, values and items from this dictionary"
   ]
  },
  {
   "cell_type": "code",
   "execution_count": 14,
   "id": "5c2fdbf3",
   "metadata": {},
   "outputs": [
    {
     "data": {
      "text/plain": [
       "dict_keys(['name', 'age', 'Instructor'])"
      ]
     },
     "execution_count": 14,
     "metadata": {},
     "output_type": "execute_result"
    }
   ],
   "source": [
    "person.keys()"
   ]
  },
  {
   "cell_type": "code",
   "execution_count": 15,
   "id": "aee793e8",
   "metadata": {},
   "outputs": [
    {
     "data": {
      "text/plain": [
       "dict_values(['Steph', 31, True])"
      ]
     },
     "execution_count": 15,
     "metadata": {},
     "output_type": "execute_result"
    }
   ],
   "source": [
    "person.values()"
   ]
  },
  {
   "cell_type": "code",
   "execution_count": 16,
   "id": "a5150fbc",
   "metadata": {},
   "outputs": [
    {
     "data": {
      "text/plain": [
       "dict_items([('name', 'Steph'), ('age', 31), ('Instructor', True)])"
      ]
     },
     "execution_count": 16,
     "metadata": {},
     "output_type": "execute_result"
    }
   ],
   "source": [
    "person.items()"
   ]
  },
  {
   "cell_type": "markdown",
   "id": "6a77c0bd",
   "metadata": {},
   "source": [
    "####    Take out only the name from it"
   ]
  },
  {
   "cell_type": "code",
   "execution_count": 17,
   "id": "78725ae0",
   "metadata": {},
   "outputs": [
    {
     "data": {
      "text/plain": [
       "'Steph'"
      ]
     },
     "execution_count": 17,
     "metadata": {},
     "output_type": "execute_result"
    }
   ],
   "source": [
    "person.pop(\"name\")"
   ]
  },
  {
   "cell_type": "markdown",
   "id": "4ee384c0",
   "metadata": {},
   "source": [
    "####    Add a new key:value pair, which adds the email \"steph@codeclan.com\" to the dictionary"
   ]
  },
  {
   "cell_type": "code",
   "execution_count": 18,
   "id": "8e4a4348",
   "metadata": {},
   "outputs": [],
   "source": [
    "person.update({\"email\": \"steph@codeclan.com\"})"
   ]
  },
  {
   "cell_type": "code",
   "execution_count": 19,
   "id": "aaa97c49",
   "metadata": {},
   "outputs": [
    {
     "data": {
      "text/plain": [
       "{'age': 31, 'Instructor': True, 'email': 'steph@codeclan.com'}"
      ]
     },
     "execution_count": 19,
     "metadata": {},
     "output_type": "execute_result"
    }
   ],
   "source": [
    "person"
   ]
  },
  {
   "cell_type": "markdown",
   "id": "8b00daa2",
   "metadata": {},
   "source": [
    "####    Delete the job description from the dictionary (Hint: look up the del function)"
   ]
  },
  {
   "cell_type": "code",
   "execution_count": 20,
   "id": "68102bfd",
   "metadata": {},
   "outputs": [],
   "source": [
    "del person[\"Instructor\"]"
   ]
  },
  {
   "cell_type": "code",
   "execution_count": 21,
   "id": "337860be",
   "metadata": {},
   "outputs": [
    {
     "data": {
      "text/plain": [
       "{'age': 31, 'email': 'steph@codeclan.com'}"
      ]
     },
     "execution_count": 21,
     "metadata": {},
     "output_type": "execute_result"
    }
   ],
   "source": [
    "person"
   ]
  },
  {
   "cell_type": "markdown",
   "id": "8e796a6f",
   "metadata": {},
   "source": [
    "# Question 4\n",
    "\n",
    "For the following list of numbers:"
   ]
  },
  {
   "cell_type": "code",
   "execution_count": 22,
   "id": "91c4865f",
   "metadata": {},
   "outputs": [],
   "source": [
    "numbers = [1, 6, 2, 2, 7, 1, 6, 13, 99, 7]"
   ]
  },
  {
   "cell_type": "markdown",
   "id": "53d3ca59",
   "metadata": {},
   "source": [
    "#### Print out a list of the even integers:"
   ]
  },
  {
   "cell_type": "code",
   "execution_count": 23,
   "id": "416b798b",
   "metadata": {},
   "outputs": [
    {
     "name": "stdout",
     "output_type": "stream",
     "text": [
      "[6, 2, 2, 6]\n"
     ]
    }
   ],
   "source": [
    "even_numbers = []\n",
    "for number in numbers:\n",
    "    if number %2 == 0:\n",
    "        even_numbers.append(number)\n",
    "\n",
    "print(even_numbers)"
   ]
  },
  {
   "cell_type": "markdown",
   "id": "017a5d0a",
   "metadata": {},
   "source": [
    "#### Print the difference between the largest and smallest value:"
   ]
  },
  {
   "cell_type": "code",
   "execution_count": 24,
   "id": "4bacdf65",
   "metadata": {},
   "outputs": [
    {
     "name": "stdout",
     "output_type": "stream",
     "text": [
      "98\n"
     ]
    }
   ],
   "source": [
    "print(max(numbers) - min(numbers))"
   ]
  },
  {
   "cell_type": "markdown",
   "id": "bdc44a2e",
   "metadata": {},
   "source": [
    "#### Print True if the list contains a 2 next to a 2 somewhere."
   ]
  },
  {
   "cell_type": "code",
   "execution_count": 25,
   "id": "ea496e6b",
   "metadata": {},
   "outputs": [
    {
     "name": "stdout",
     "output_type": "stream",
     "text": [
      "True\n"
     ]
    }
   ],
   "source": [
    "twos = [2, 2]\n",
    "def x_within_y(twos, numbers):\n",
    "    n = len(twos)\n",
    "    return any(twos == numbers[i:i + n] for i in range(len(numbers)-n + 1))\n",
    "print(x_within_y(twos, numbers))"
   ]
  },
  {
   "cell_type": "code",
   "execution_count": 26,
   "id": "526654e1",
   "metadata": {},
   "outputs": [
    {
     "data": {
      "text/plain": [
       "[1, 6, 2, 2, 7, 1, 6, 13, 99, 7]"
      ]
     },
     "execution_count": 26,
     "metadata": {},
     "output_type": "execute_result"
    }
   ],
   "source": [
    "numbers"
   ]
  },
  {
   "cell_type": "markdown",
   "id": "572b4017",
   "metadata": {},
   "source": [
    "#### Print the sum of the numbers, BUT ignore any section of numbers starting with a 6 and extending to the next 7. So [11, 6, 4, 99, 7, 11] would have sum of 22"
   ]
  },
  {
   "cell_type": "markdown",
   "id": "218ad2a1",
   "metadata": {},
   "source": [
    "# Question 5\n",
    "\n",
    "Write a conditional that takes in two inputs :\n",
    "\n",
    "    python_is_fun = True\n",
    "    python_is_weird = True\n",
    "\n",
    "We want to print \"Woo Python!\" if either python_is_fun is true OR python_is_weird is true OR both python_is_fun and python_is_weird are true. Otherwise, print \"Python is not for me!\". Make sure you test all the combinations."
   ]
  },
  {
   "cell_type": "code",
   "execution_count": 27,
   "id": "fd5e90d3",
   "metadata": {},
   "outputs": [
    {
     "name": "stdout",
     "output_type": "stream",
     "text": [
      "Woo Python!\n"
     ]
    }
   ],
   "source": [
    "python_is_fun = True\n",
    "python_is_weird = True\n",
    "\n",
    "if python_is_fun == True or python_is_weird == True:\n",
    "    print(\"Woo Python!\")\n",
    "elif python_is_fun == True and python_is_weird == True:\n",
    "    print(\"Woo Python!\")\n",
    "else:\n",
    "    print(\"Python is not for me!\")"
   ]
  },
  {
   "cell_type": "markdown",
   "id": "e5594f18",
   "metadata": {},
   "source": [
    "# Question 6\n",
    "We have a list of chickens and the farmer would like to go through all the chickens, collecting the eggs and getting the total number of eggs collected.\n",
    "\n",
    "chickens = [\n",
    "  { \"name\": \"Margaret\", \"age\": 2, \"eggs\": 0 },\n",
    "  { \"name\": \"Hetty\", \"age\": 1, \"eggs\": 2 },\n",
    "  { \"name\": \"Henrietta\", \"age\": 3, \"eggs\": 1 },\n",
    "  { \"name\": \"Audrey\", \"age\": 2, \"eggs\": 0 },\n",
    "  { \"name\": \"Mabel\", \"age\": 5, \"eggs\": 1 },\n",
    "]\n",
    "\n",
    "To write this as a loop, we'd do something like this:\n",
    "\n",
    "total_eggs = 0\n",
    "\n",
    "for chicken in chickens:\n",
    "    total_eggs += chicken[\"eggs\"]\n",
    "    chicken[\"eggs\"] = 0 # eggs have been collected\n",
    "\n",
    "print(f\"{total_eggs} eggs collected\")\n",
    "\n",
    "Instead, we want to define a function which passes in a list, so that if we wanted to count eggs of a different list of chickens from another farm, we can use the same function, just pass in a different list.\n",
    "\n",
    "We also want to return the string at the end, instead of using print."
   ]
  },
  {
   "cell_type": "code",
   "execution_count": 28,
   "id": "95aa072d",
   "metadata": {},
   "outputs": [
    {
     "name": "stdout",
     "output_type": "stream",
     "text": [
      "4 eggs collected\n"
     ]
    }
   ],
   "source": [
    "chickens = [\n",
    "  { \"name\": \"Margaret\", \"age\": 2, \"eggs\": 0 },\n",
    "  { \"name\": \"Hetty\", \"age\": 1, \"eggs\": 2 },\n",
    "  { \"name\": \"Henrietta\", \"age\": 3, \"eggs\": 1 },\n",
    "  { \"name\": \"Audrey\", \"age\": 2, \"eggs\": 0 },\n",
    "  { \"name\": \"Mabel\", \"age\": 5, \"eggs\": 1 },\n",
    "]\n",
    "\n",
    "total_eggs = 0\n",
    "\n",
    "for chicken in chickens:\n",
    "    total_eggs += chicken[\"eggs\"]\n",
    "    chicken[\"eggs\"] = 0 # eggs have been collected\n",
    "\n",
    "print(f\"{total_eggs} eggs collected\")"
   ]
  },
  {
   "cell_type": "code",
   "execution_count": 29,
   "id": "6bd39bfa",
   "metadata": {},
   "outputs": [],
   "source": [
    "chickens2 = [\n",
    "  { \"name\": \"Jess\", \"age\": 2, \"eggs\": 3 },\n",
    "  { \"name\": \"Mary\", \"age\": 1, \"eggs\": 4 },\n",
    "  { \"name\": \"Vodka\", \"age\": 3, \"eggs\": 2 },\n",
    "  { \"name\": \"Loss\", \"age\": 2, \"eggs\": 0 },\n",
    "  { \"name\": \"Quiet bliss\", \"age\": 5, \"eggs\": 2 },\n",
    "]"
   ]
  },
  {
   "cell_type": "code",
   "execution_count": 30,
   "id": "e99ef226",
   "metadata": {},
   "outputs": [
    {
     "data": {
      "text/plain": [
       "{'name': 'Mabel', 'age': 5, 'eggs': 0}"
      ]
     },
     "execution_count": 30,
     "metadata": {},
     "output_type": "execute_result"
    }
   ],
   "source": [
    "chicken"
   ]
  },
  {
   "cell_type": "code",
   "execution_count": 35,
   "id": "a9942124",
   "metadata": {},
   "outputs": [],
   "source": [
    "def eggs_collected(chicken_list):\n",
    "    total_eggs = 0\n",
    "    for chicken in chicken_list:\n",
    "        total_eggs += chicken[\"eggs\"]\n",
    "        chicken[\"eggs\"] = 0\n",
    "    return total_eggs\n",
    "    \n"
   ]
  },
  {
   "cell_type": "code",
   "execution_count": 36,
   "id": "23cba894",
   "metadata": {},
   "outputs": [
    {
     "data": {
      "text/plain": [
       "11"
      ]
     },
     "execution_count": 36,
     "metadata": {},
     "output_type": "execute_result"
    }
   ],
   "source": [
    "eggs_collected(chickens2)"
   ]
  },
  {
   "cell_type": "markdown",
   "id": "c0ff91e6",
   "metadata": {},
   "source": [
    "# Extensions\n",
    "## Question 1\n",
    "\n",
    "Set up the following collection:\n",
    "\n",
    "Use a loop to print the names of all the countries in the UK.\n",
    "\n",
    "Use a loop to find the total population of the UK.\n"
   ]
  },
  {
   "cell_type": "code",
   "execution_count": null,
   "id": "da620063",
   "metadata": {},
   "outputs": [],
   "source": [
    "import numpy as np"
   ]
  },
  {
   "cell_type": "code",
   "execution_count": 46,
   "id": "20e96760",
   "metadata": {},
   "outputs": [],
   "source": [
    "united_kingdom = [\n",
    "  {\n",
    "    \"name\": \"Scotland\",\n",
    "    \"population\": 5295000,\n",
    "    \"capital\": \"Edinburgh\"\n",
    "  },\n",
    "  {\n",
    "    \"name\": \"Wales\",\n",
    "    \"population\": 3063000,\n",
    "    \"capital\": \"Swansea\"\n",
    "  },\n",
    "  {\n",
    "    \"name\": \"England\",\n",
    "    \"population\": 53010000,\n",
    "    \"capital\": \"London\"\n",
    "  }\n",
    "]"
   ]
  },
  {
   "cell_type": "markdown",
   "id": "b2d950d1",
   "metadata": {},
   "source": [
    "Change the capital of Wales from \"Swansea\" to \"Cardiff\"."
   ]
  },
  {
   "cell_type": "code",
   "execution_count": 47,
   "id": "4685f1b0",
   "metadata": {},
   "outputs": [
    {
     "data": {
      "text/plain": [
       "[{'name': 'Scotland', 'population': 5295000, 'capital': 'Edinburgh'},\n",
       " {'name': 'Wales', 'population': 3063000, 'capital': 'Cardiff'},\n",
       " {'name': 'England', 'population': 53010000, 'capital': 'London'}]"
      ]
     },
     "execution_count": 47,
     "metadata": {},
     "output_type": "execute_result"
    }
   ],
   "source": [
    "united_kingdom[1][\"capital\"] = \"Cardiff\"\n",
    "united_kingdom"
   ]
  },
  {
   "cell_type": "markdown",
   "id": "ac0b79bb",
   "metadata": {},
   "source": [
    "Create a dictionary for Northern Ireland and add it to the united_kingdom list (The capital is Belfast, and the population is 1,811,000)."
   ]
  },
  {
   "cell_type": "code",
   "execution_count": 48,
   "id": "15b92927",
   "metadata": {
    "scrolled": true
   },
   "outputs": [],
   "source": [
    "united_kingdom.append({\n",
    "   \"name\": \"Northern Ireland\",\n",
    "   \"population\": \"1811000\",\n",
    "    \"capital\": \"Belfast\"\n",
    "})"
   ]
  },
  {
   "cell_type": "code",
   "execution_count": 49,
   "id": "d02a1531",
   "metadata": {},
   "outputs": [
    {
     "data": {
      "text/plain": [
       "[{'name': 'Scotland', 'population': 5295000, 'capital': 'Edinburgh'},\n",
       " {'name': 'Wales', 'population': 3063000, 'capital': 'Cardiff'},\n",
       " {'name': 'England', 'population': 53010000, 'capital': 'London'},\n",
       " {'name': 'Northern Ireland', 'population': '1811000', 'capital': 'Belfast'}]"
      ]
     },
     "execution_count": 49,
     "metadata": {},
     "output_type": "execute_result"
    }
   ],
   "source": [
    "united_kingdom"
   ]
  }
 ],
 "metadata": {
  "kernelspec": {
   "display_name": "Python 3 (ipykernel)",
   "language": "python",
   "name": "python3"
  },
  "language_info": {
   "codemirror_mode": {
    "name": "ipython",
    "version": 3
   },
   "file_extension": ".py",
   "mimetype": "text/x-python",
   "name": "python",
   "nbconvert_exporter": "python",
   "pygments_lexer": "ipython3",
   "version": "3.9.12"
  },
  "varInspector": {
   "cols": {
    "lenName": 16,
    "lenType": 16,
    "lenVar": 40
   },
   "kernels_config": {
    "python": {
     "delete_cmd_postfix": "",
     "delete_cmd_prefix": "del ",
     "library": "var_list.py",
     "varRefreshCmd": "print(var_dic_list())"
    },
    "r": {
     "delete_cmd_postfix": ") ",
     "delete_cmd_prefix": "rm(",
     "library": "var_list.r",
     "varRefreshCmd": "cat(var_dic_list()) "
    }
   },
   "types_to_exclude": [
    "module",
    "function",
    "builtin_function_or_method",
    "instance",
    "_Feature"
   ],
   "window_display": true
  }
 },
 "nbformat": 4,
 "nbformat_minor": 5
}
