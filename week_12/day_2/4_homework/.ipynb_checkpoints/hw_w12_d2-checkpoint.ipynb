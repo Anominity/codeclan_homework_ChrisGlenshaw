{
 "cells": [
  {
   "cell_type": "markdown",
   "id": "ecef7f96",
   "metadata": {},
   "source": [
    "\n",
    "## Questions\n",
    "\n",
    "We're going to be looking at the number of Calories in each drink. Calculate some quick summary statistics (e.g. the mean, the maximum and minimum).\n"
   ]
  },
  {
   "cell_type": "code",
   "execution_count": 1,
   "id": "796c05ef",
   "metadata": {},
   "outputs": [],
   "source": [
    "import pandas as pd\n",
    "import matplotlib.pyplot as plt\n",
    "import seaborn as sns\n",
    "import numpy as np"
   ]
  },
  {
   "cell_type": "markdown",
   "id": "1c56bd61",
   "metadata": {},
   "source": [
    "### 1\n",
    "Load in the dataset (starbucks_drinkMenu_expanded.csv), calling it drinks_content, and then briefly explore it, printing out: first 5 rows, last 5 rows, and then all of the data. Find out the dimensions of the data (number of rows and columns) and the column names."
   ]
  },
  {
   "cell_type": "code",
   "execution_count": 3,
   "id": "a5639c8f",
   "metadata": {},
   "outputs": [],
   "source": [
    "drinks_content = pd.read_csv('/Users/anominity/Desktop/CodeClan/codeclan_homework_ChrisGlenshaw/week_12/day_2/4_homework/data/starbucks_drinkMenu_expanded.csv')\n"
   ]
  },
  {
   "cell_type": "code",
   "execution_count": 8,
   "id": "44b0e31c",
   "metadata": {},
   "outputs": [
    {
     "name": "stdout",
     "output_type": "stream",
     "text": [
      "         Beverage_category       Beverage      Beverage_prep  Calories  \\\n",
      "0                   Coffee  Brewed Coffee              Short         3   \n",
      "1                   Coffee  Brewed Coffee               Tall         4   \n",
      "2                   Coffee  Brewed Coffee             Grande         5   \n",
      "3                   Coffee  Brewed Coffee              Venti         5   \n",
      "4  Classic Espresso Drinks    Caffè Latte  Short Nonfat Milk        70   \n",
      "\n",
      "   Total Fat (g)  Trans Fat (g)   Saturated Fat (g)   Sodium (mg)  \\\n",
      "0            0.1             0.0                0.0             0   \n",
      "1            0.1             0.0                0.0             0   \n",
      "2            0.1             0.0                0.0             0   \n",
      "3            0.1             0.0                0.0             0   \n",
      "4            0.1             0.1                0.0             5   \n",
      "\n",
      "    Total Carbohydrates (g)   Cholesterol (mg)   Dietary Fibre (g)  \\\n",
      "0                          5                 0                   0   \n",
      "1                         10                 0                   0   \n",
      "2                         10                 0                   0   \n",
      "3                         10                 0                   0   \n",
      "4                         75                10                   0   \n",
      "\n",
      "    Sugars (g)   Protein (g)  Vitamin A (% DV)  Vitamin C (% DV)  \\\n",
      "0            0            0.3                0%               0%   \n",
      "1            0            0.5                0%               0%   \n",
      "2            0            1.0                0%               0%   \n",
      "3            0            1.0                0%               0%   \n",
      "4            9            6.0               10%               0%   \n",
      "\n",
      "   Calcium (% DV)  Iron (% DV)  Caffeine (mg)  \n",
      "0               0%           0%           175  \n",
      "1               0%           0%           260  \n",
      "2               0%           0%           330  \n",
      "3               2%           0%           410  \n",
      "4              20%           0%            75  \n",
      "              Beverage_category                                      Beverage  \\\n",
      "237  Frappuccino® Blended Crème  Strawberries & Crème (Without Whipped Cream)   \n",
      "238  Frappuccino® Blended Crème          Vanilla Bean (Without Whipped Cream)   \n",
      "239  Frappuccino® Blended Crème          Vanilla Bean (Without Whipped Cream)   \n",
      "240  Frappuccino® Blended Crème          Vanilla Bean (Without Whipped Cream)   \n",
      "241  Frappuccino® Blended Crème          Vanilla Bean (Without Whipped Cream)   \n",
      "\n",
      "          Beverage_prep  Calories  Total Fat (g)  Trans Fat (g)   \\\n",
      "237             Soymilk       320            3 2             0.4   \n",
      "238    Tall Nonfat Milk       170            0.1             0.1   \n",
      "239          Whole Milk       200            3.5             2.0   \n",
      "240             Soymilk       180            1.5             0.2   \n",
      "241  Grande Nonfat Milk       240            0.1             0.1   \n",
      "\n",
      "     Saturated Fat (g)   Sodium (mg)   Total Carbohydrates (g)   \\\n",
      "237                0.0             0                        250   \n",
      "238                0.0             0                        160   \n",
      "239                0.1            10                        160   \n",
      "240                0.0             0                        160   \n",
      "241                0.0             5                        230   \n",
      "\n",
      "     Cholesterol (mg)   Dietary Fibre (g)   Sugars (g)   Protein (g)   \\\n",
      "237                67                   1           64            5.0   \n",
      "238                39                   0           38            4.0   \n",
      "239                39                   0           38            3.0   \n",
      "240                37                   1           35            3.0   \n",
      "241                56                   0           55            5.0   \n",
      "\n",
      "    Vitamin A (% DV)  Vitamin C (% DV)  Calcium (% DV)  Iron (% DV)   \\\n",
      "237                6%               8%              20%          10%   \n",
      "238                6%               0%              10%           0%   \n",
      "239                6%               0%              10%           0%   \n",
      "240                4%               0%              10%           6%   \n",
      "241                8%               0%              15%           0%   \n",
      "\n",
      "    Caffeine (mg)  \n",
      "237             0  \n",
      "238             0  \n",
      "239             0  \n",
      "240             0  \n",
      "241             0  \n",
      "(242, 18)\n"
     ]
    }
   ],
   "source": [
    "print(drinks_content.head())\n",
    "print(drinks_content.tail())\n",
    "print(drinks_content.shape)"
   ]
  },
  {
   "cell_type": "markdown",
   "id": "dd3ade62",
   "metadata": {},
   "source": [
    "### 2\n",
    "Select the variables Beverage_category, Beverage, Beverage prep and Calories from the drinks_content data frame, and assign the selected columns to a new data frame called drinks. Check if there are any missing values anywhere in the data, and drop any rows containing them if there are."
   ]
  },
  {
   "cell_type": "code",
   "execution_count": null,
   "id": "134898c3",
   "metadata": {},
   "outputs": [],
   "source": [
    "drinks = drinks_content"
   ]
  },
  {
   "cell_type": "markdown",
   "id": "0f7c83c8",
   "metadata": {},
   "source": [
    "### 3\n",
    "In your drinks dataframe create a new variable (column) called calorie_diff, which stores the difference between 135 calories (135 calories = 10 cubes of sugar!) and the calories in each drink. (Hint: you’ll want to subtract the calories from 135 to see which drinks have more or less than 10 cubes of sugar)."
   ]
  },
  {
   "cell_type": "markdown",
   "id": "f871f574",
   "metadata": {},
   "source": [
    "### 4\n",
    "Summarise the mean number of calories in each beverage category."
   ]
  },
  {
   "cell_type": "markdown",
   "id": "854d975b",
   "metadata": {},
   "source": [
    "### 5\n",
    "Harder - Which Beverage_prep type contains more than the average calories of all drinks? (Hint: to answer this, you’ll have to first figure out what the average calories across all drinks are, and then use that as a filter for the grouped Beverage_prep data)."
   ]
  },
  {
   "cell_type": "markdown",
   "id": "9c1aae7e",
   "metadata": {},
   "source": [
    "### 6\n",
    "Harder - Which is the best type of coffee drink to get if you’re worried about consuming too many calories? (Hint: you can use pd.unique() on a column to get all unique values/levels of that column! Also remember that you can use isin() to subset with a list)"
   ]
  },
  {
   "cell_type": "markdown",
   "id": "6aec9b7d",
   "metadata": {},
   "source": [
    "### 7\n",
    "Filter the dataset drinks so we only take \"Classic Espresso Drinks\", and save this in a new data frame called espresso_drinks."
   ]
  },
  {
   "cell_type": "markdown",
   "id": "0061bade",
   "metadata": {},
   "source": [
    "### 8\n",
    "Group your espresso_drinks data frame by the type of Beverage prep, and then find out the mean calories for each drink group."
   ]
  },
  {
   "cell_type": "markdown",
   "id": "5c3758c2",
   "metadata": {},
   "source": [
    "### 9 \n",
    "Get the same grouped mean Calories values as above, but this time sorted in descending order. (Hint: so you're able to sort the resulting groupby by the 'Calories' column you will want to ensure you get back a dataframe and not a series)"
   ]
  }
 ],
 "metadata": {
  "kernelspec": {
   "display_name": "Python 3 (ipykernel)",
   "language": "python",
   "name": "python3"
  },
  "language_info": {
   "codemirror_mode": {
    "name": "ipython",
    "version": 3
   },
   "file_extension": ".py",
   "mimetype": "text/x-python",
   "name": "python",
   "nbconvert_exporter": "python",
   "pygments_lexer": "ipython3",
   "version": "3.9.12"
  },
  "varInspector": {
   "cols": {
    "lenName": 16,
    "lenType": 16,
    "lenVar": 40
   },
   "kernels_config": {
    "python": {
     "delete_cmd_postfix": "",
     "delete_cmd_prefix": "del ",
     "library": "var_list.py",
     "varRefreshCmd": "print(var_dic_list())"
    },
    "r": {
     "delete_cmd_postfix": ") ",
     "delete_cmd_prefix": "rm(",
     "library": "var_list.r",
     "varRefreshCmd": "cat(var_dic_list()) "
    }
   },
   "position": {
    "height": "143.95px",
    "left": "2px",
    "right": "20px",
    "top": "52px",
    "width": "350px"
   },
   "types_to_exclude": [
    "module",
    "function",
    "builtin_function_or_method",
    "instance",
    "_Feature"
   ],
   "window_display": true
  }
 },
 "nbformat": 4,
 "nbformat_minor": 5
}
